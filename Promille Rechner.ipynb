{
 "cells": [
  {
   "cell_type": "code",
   "execution_count": 47,
   "metadata": {},
   "outputs": [
    {
     "data": {
      "application/vnd.jupyter.widget-view+json": {
       "model_id": "d1424bbfaf774bb087c95661262bd2fb",
       "version_major": 2,
       "version_minor": 0
      },
      "text/plain": [
       "interactive(children=(IntSlider(value=5, description='Beer', max=15, min=-5), IntSlider(value=5, description='…"
      ]
     },
     "metadata": {},
     "output_type": "display_data"
    }
   ],
   "source": [
    "from __future__ import print_function\n",
    "from ipywidgets import interact, interactive, fixed, interact_manual\n",
    "import ipywidgets as widgets\n",
    "from IPython.display import display\n",
    "from decimal import Decimal\n",
    "\n",
    "def f(Beer, Wine,Weight,Gender):\n",
    "    display(round(((Beer*0.33*5*10*0.8 + Wine*0.25*12*10*0.8))/(Weight*Gender),2))\n",
    "   \n",
    "    \n",
    "w = interactive(f,Beer=5,Wine=5,Weight=150,Gender=[(\"Male\",0.6),(\"Female\",0.7)])\n",
    "\n",
    "type(w)\n",
    "\n",
    "display(w)\n",
    "\n"
   ]
  }
 ],
 "metadata": {
  "kernelspec": {
   "display_name": "Python 3",
   "language": "python",
   "name": "python3"
  },
  "language_info": {
   "codemirror_mode": {
    "name": "ipython",
    "version": 3
   },
   "file_extension": ".py",
   "mimetype": "text/x-python",
   "name": "python",
   "nbconvert_exporter": "python",
   "pygments_lexer": "ipython3",
   "version": "3.7.8"
  }
 },
 "nbformat": 4,
 "nbformat_minor": 4
}
