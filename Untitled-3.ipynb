{
 "cells": [
  {
   "cell_type": "code",
   "execution_count": 1,
   "metadata": {},
   "outputs": [
    {
     "name": "stdout",
     "output_type": "stream",
     "text": [
      "Enter your name:sjfl\n",
      "Hello sjfl !\n"
     ]
    }
   ],
   "source": [
    "name = input (\"Enter your name:\")\n",
    "print(\"Hello\",name, \"!\")"
   ]
  },
  {
   "cell_type": "code",
   "execution_count": 2,
   "metadata": {},
   "outputs": [
    {
     "name": "stdout",
     "output_type": "stream",
     "text": [
      "Please enter your age:19\n",
      "Lets continue:\n"
     ]
    }
   ],
   "source": [
    "\n",
    "age = int(input('Please enter your age:'))\n",
    "if age<16:\n",
    "    print (\"You should not drink alcohol!Goodbye\")\n",
    "if age <16:\n",
    "    exit()\n",
    "    \n",
    "else: print (\"Lets continue:\")\n"
   ]
  },
  {
   "cell_type": "code",
   "execution_count": 3,
   "metadata": {},
   "outputs": [
    {
     "name": "stdout",
     "output_type": "stream",
     "text": [
      "Are you male or female?female\n"
     ]
    }
   ],
   "source": [
    "gender= input(\"Are you male or female?\")"
   ]
  },
  {
   "cell_type": "code",
   "execution_count": 4,
   "metadata": {},
   "outputs": [],
   "source": [
    "def discoutfactor(gender):\n",
    "    if gender == 'female':\n",
    "        faktor = 0.6\n",
    "    else:\n",
    "        faktor = 0.7\n",
    "    return faktor"
   ]
  },
  {
   "cell_type": "code",
   "execution_count": 34,
   "metadata": {},
   "outputs": [
    {
     "name": "stdout",
     "output_type": "stream",
     "text": [
      "What drink did you consume?Beer\n",
      "How many?5\n"
     ]
    }
   ],
   "source": [
    "drink= input(\"What drink did you consume?\")\n",
    "anzahl= input(\"How many?\")\n"
   ]
  },
  {
   "cell_type": "code",
   "execution_count": 37,
   "metadata": {},
   "outputs": [],
   "source": [
    "def alcoholcontent (drink):\n",
    "    if drink == 'Beer':\n",
    "        pAlcohol = 5.0\n",
    "    else:\n",
    "        if drink == 'Wine':\n",
    "            pAlcohol = 8.0\n",
    "        else:\n",
    "            if drink=='Shot':\n",
    "                pAlcohol= 30.0\n",
    "            ...\n",
    "    return pAlcohol"
   ]
  },
  {
   "cell_type": "code",
   "execution_count": 39,
   "metadata": {},
   "outputs": [],
   "source": [
    "def drinksize (drink):\n",
    "    if drink == 'Beer':\n",
    "        pSize = 0.33\n",
    "    else:\n",
    "        if drink == 'Wine':\n",
    "            pSize = 0.25\n",
    "        else:\n",
    "            if drink== \"Shot\":\n",
    "                pSize= 0.03\n",
    "            ...\n",
    "    return pSize"
   ]
  },
  {
   "cell_type": "code",
   "execution_count": 40,
   "metadata": {},
   "outputs": [
    {
     "ename": "SyntaxError",
     "evalue": "invalid syntax (<ipython-input-40-ff73a219433c>, line 1)",
     "output_type": "error",
     "traceback": [
      "\u001b[0;36m  File \u001b[0;32m\"<ipython-input-40-ff73a219433c>\"\u001b[0;36m, line \u001b[0;32m1\u001b[0m\n\u001b[0;31m    function: alkoholmasse=10*(factor pSize)*anzahl)*def(pAlcohol)+0.8\u001b[0m\n\u001b[0m                                          ^\u001b[0m\n\u001b[0;31mSyntaxError\u001b[0m\u001b[0;31m:\u001b[0m invalid syntax\n"
     ]
    }
   ],
   "source": [
    "function: alkoholmasse=10*(defpSize)*anzahl)*def(pAlcohol)+0.8\n",
    "print(\"alkoholmasse\")\n",
    " "
   ]
  },
  {
   "cell_type": "raw",
   "metadata": {},
   "source": []
  }
 ],
 "metadata": {
  "kernelspec": {
   "display_name": "Python 3",
   "language": "python",
   "name": "python3"
  }
 },
 "nbformat": 4,
 "nbformat_minor": 4
}
